{
 "cells": [
  {
   "cell_type": "markdown",
   "metadata": {
    "colab_type": "text",
    "id": "9mbML-TE_725"
   },
   "source": [
    "## Getting things started"
   ]
  },
  {
   "cell_type": "code",
   "execution_count": 1,
   "metadata": {
    "colab": {},
    "colab_type": "code",
    "id": "IZk3OwZcIj5b"
   },
   "outputs": [
    {
     "ename": "ModuleNotFoundError",
     "evalue": "No module named 'google.colab'",
     "output_type": "error",
     "traceback": [
      "\u001b[1;31m---------------------------------------------------------------------------\u001b[0m",
      "\u001b[1;31mModuleNotFoundError\u001b[0m                       Traceback (most recent call last)",
      "\u001b[1;32m<ipython-input-1-339f10af51f6>\u001b[0m in \u001b[0;36m<module>\u001b[1;34m()\u001b[0m\n\u001b[0;32m      2\u001b[0m \u001b[1;32mimport\u001b[0m \u001b[0mcv2\u001b[0m \u001b[1;32mas\u001b[0m \u001b[0mcv\u001b[0m\u001b[1;33m\u001b[0m\u001b[0m\n\u001b[0;32m      3\u001b[0m \u001b[1;32mimport\u001b[0m \u001b[0mmatplotlib\u001b[0m\u001b[1;33m.\u001b[0m\u001b[0mpyplot\u001b[0m \u001b[1;32mas\u001b[0m \u001b[0mplt\u001b[0m\u001b[1;33m\u001b[0m\u001b[0m\n\u001b[1;32m----> 4\u001b[1;33m \u001b[1;32mfrom\u001b[0m \u001b[0mgoogle\u001b[0m\u001b[1;33m.\u001b[0m\u001b[0mcolab\u001b[0m \u001b[1;32mimport\u001b[0m \u001b[0mfiles\u001b[0m\u001b[1;33m\u001b[0m\u001b[0m\n\u001b[0m\u001b[0;32m      5\u001b[0m \u001b[1;32mimport\u001b[0m \u001b[0mtime\u001b[0m\u001b[1;33m\u001b[0m\u001b[0m\n",
      "\u001b[1;31mModuleNotFoundError\u001b[0m: No module named 'google.colab'"
     ]
    }
   ],
   "source": [
    "import numpy as np\n",
    "import cv2 as cv\n",
    "import matplotlib.pyplot as plt\n",
    "import time"
   ]
  },
  {
   "cell_type": "code",
   "execution_count": null,
   "metadata": {
    "colab": {
     "base_uri": "https://localhost:8080/",
     "height": 223,
     "resources": {
      "http://localhost:8080/nbextensions/google.colab/files.js": {
       "data": "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",
       "headers": [
        [
         "content-type",
         "application/javascript"
        ]
       ],
       "ok": true,
       "status": 200,
       "status_text": "OK"
      }
     }
    },
    "colab_type": "code",
    "id": "5_mwPeoeTEQN",
    "outputId": "94cb1ed1-c60d-4ab8-940e-b17498b142a2"
   },
   "outputs": [],
   "source": [
    "# Uploading 3 sample files\n",
    "files.upload()"
   ]
  },
  {
   "cell_type": "code",
   "execution_count": 0,
   "metadata": {
    "colab": {},
    "colab_type": "code",
    "id": "lfzxY_kW9NGR"
   },
   "outputs": [],
   "source": [
    "# Reading images from the uploaded files\n",
    "t1 = np.asarray(cv.imread(\"/content/t1.jpg\"))\n",
    "t2 = np.asarray(cv.imread(\"/content/t2.jpg\"))\n",
    "t3 = np.asarray(cv.imread(\"/content/t3.jpg\"))\n",
    "\n",
    "# Reading images as grayscale\n",
    "t1_gray = np.asarray(cv.imread(\"/content/t1.jpg\", 0))\n",
    "t2_gray = np.asarray(cv.imread(\"/content/t2.jpg\", 0))\n",
    "t3_gray = np.asarray(cv.imread(\"/content/t3.jpg\", 0))"
   ]
  },
  {
   "cell_type": "markdown",
   "metadata": {
    "colab_type": "text",
    "id": "9Lpfpw7a-k7X"
   },
   "source": [
    "## Otsu's Method for Binarization of Image"
   ]
  },
  {
   "cell_type": "code",
   "execution_count": 0,
   "metadata": {
    "colab": {},
    "colab_type": "code",
    "id": "HDNcqdJ0M39L"
   },
   "outputs": [],
   "source": [
    "# Initializing class probabilities\n",
    "def class_prob(x):\n",
    "  uT = np.zeros(x.shape)\n",
    "  for i in range(x.size):\n",
    "    uT[i] = (i+1)*x[i]\n",
    "  return uT\n",
    "\n",
    "\n",
    "'''\n",
    "t: threshold\n",
    "Iterating over threshold, computing running max\n",
    "Otsu Thresholding:\n",
    "Parameters: Class Probability (p), Class Mean (uT)\n",
    "Output: Maximum Inter-class variance threshold(sig)\n",
    "'''\n",
    "def otsu(p, uT):\n",
    "  sig = 0\n",
    "  otsu_t = 0\n",
    "  for t in np.arange(p.size):\n",
    "    w0 = np.sum(p[:t])\n",
    "    w1 = np.sum(p[t:])\n",
    "    u0 = np.sum(uT[:t]) / w0\n",
    "    u1 = np.sum(uT[t:]) / w1\n",
    "    \n",
    "    # Computing Inter-class variance\n",
    "    sig_new = w0*w1*((u0 - u1)**2)\n",
    "    \n",
    "    # If a new maximum is encountered\n",
    "    if (sig_new > sig):\n",
    "      otsu_t = t\n",
    "      sig = sig_new    \n",
    "  return otsu_t\n",
    "\n",
    "\n",
    "''' \n",
    "Image Binarization\n",
    "Set values over the threshold as 1, others as 0\n",
    "'''\n",
    "def img_bin(img, t):\n",
    "  h, w = img.shape\n",
    "  x = img.flatten()\n",
    "  for i in range(x.size):\n",
    "    if (x[i] > t): \n",
    "      x[i] = 1\n",
    "    else: \n",
    "      x[i] = 0\n",
    "  return (x.reshape(h, w))"
   ]
  },
  {
   "cell_type": "code",
   "execution_count": 0,
   "metadata": {
    "colab": {},
    "colab_type": "code",
    "id": "fOba_Nfc4Z2Q"
   },
   "outputs": [],
   "source": [
    "def otsu_wrapper(img):\n",
    "  img_hist, img_bins = np.histogram(img, bins=(np.max(img)-np.min(img)))\n",
    "  img_p = img_hist / np.sum(img_hist)\n",
    "  \n",
    "#   # Plot Probability Distribution of Intensities \n",
    "#   plt.plot(img_p)\n",
    "#   plt.show()\n",
    "  \n",
    "  # uT = i*p(i) for all class probabilities\n",
    "  img_ut = class_prob(img_p)\n",
    "  \n",
    "  # Plotting thresholds over class probabilities\n",
    "  plt.plot(img_p)\n",
    "  otsu_t = otsu(img_p, img_ut)\n",
    "  x = [otsu_t]* int(np.round((np.max(img_p)/0.0001 + 1)))\n",
    "  plt.plot(x, np.arange(np.max(img_p), step = 0.0001))\n",
    "  plt.show()\n",
    "  \n",
    "  plt.imshow(img)\n",
    "  plt.show()\n",
    "  plt.imshow(img_bin(img, otsu_t))\n",
    "  plt.show()\n",
    "  print(otsu_t)"
   ]
  },
  {
   "cell_type": "code",
   "execution_count": 0,
   "metadata": {
    "colab": {},
    "colab_type": "code",
    "id": "kTzEl-iy6qZR"
   },
   "outputs": [],
   "source": [
    "start_time = time.time()\n",
    "otsu_wrapper(t1_gray)\n",
    "print(\"--- %s seconds ---\" % (time.time() - start_time))\n",
    "\n",
    "start_time = time.time()\n",
    "otsu_wrapper(t2_gray)\n",
    "print(\"--- %s seconds ---\" % (time.time() - start_time))\n",
    "\n",
    "start_time = time.time()\n",
    "otsu_wrapper(t3_gray)\n",
    "print(\"--- %s seconds ---\" % (time.time() - start_time))"
   ]
  },
  {
   "cell_type": "markdown",
   "metadata": {
    "colab_type": "text",
    "id": "b6AhIgKQItKt"
   },
   "source": [
    "References: \n",
    "1. Otsu's Method Algorithm: https://en.wikipedia.org/wiki/Otsu%27s_method#Algorithm\n",
    "2. NumPy Documentation: https://docs.scipy.org/doc/numpy/\n",
    "3. Matplotlib Documentation: https://matplotlib.org/api/_as_gen/matplotlib.pyplot.html"
   ]
  },
  {
   "cell_type": "markdown",
   "metadata": {
    "colab_type": "text",
    "id": "IxND0gQJACFu"
   },
   "source": [
    "## Quadtree Compression"
   ]
  },
  {
   "cell_type": "code",
   "execution_count": 0,
   "metadata": {
    "colab": {},
    "colab_type": "code",
    "id": "fN1PJWKMKWXp"
   },
   "outputs": [],
   "source": [
    "# Error Metrics\n",
    "def mean_squared_error(img, up, down, left, right):\n",
    "  return np.mean( (np.mean(img[up:down,left:right]) - img[up:down,left:right]) **2 )\n",
    "\n",
    "def mean_abs_error(img, up, down, left, right):\n",
    "  return np.mean( np.fabs( np.mean(img[up:down,left:right]) - img[up:down,left:right]) )\n",
    "  \n",
    "def max_abs_error(img, up, down, left, right):\n",
    "  return np.max( np.fabs(np.mean(img[up:down,left:right]) - img[up:down,left:right]) )\n",
    "\n",
    "'''\n",
    "--------------------------------\n",
    "Find max value from dictionary |\n",
    "--------------------------------\n",
    "'''\n",
    "def max_val(main_dict):\n",
    "  # Select the one with the maximum error\n",
    "  next_split_u = np.max( [u for u in main_dict.values()] )\n",
    "  return main_dict, next_split_u\n",
    "\n",
    "\n",
    "# '''\n",
    "# --------------------------------\n",
    "# Set threshold as per           |\n",
    "# the max error allowed          |\n",
    "# and the error metric           |\n",
    "# --------------------------------\n",
    "# '''\n",
    "# def set_threshold(img, error, threshold):\n",
    "#   if error == 0:\n",
    "#     return \n",
    "#   elif error == 1:\n",
    "\n",
    "#   else error == 2:\n",
    "  \n",
    "  \n",
    "'''\n",
    "--------------------------------\n",
    "error param:                   |\n",
    "0: Mean Squared Error          |\n",
    "1: Mean Absolute Error         |\n",
    "2: Max Absolute Error          |\n",
    "--------------------------------\n",
    "'''\n",
    "def quadtree_compression(img, main_dict, error, threshold):                                 # up, down, left, right (removed arg)\n",
    "  \n",
    "  # Find the next maximum error from the key-value pairs\n",
    "  main_dict, next_split_u = max_val(main_dict)\n",
    "  \n",
    "  # Split the image further\n",
    "  new_indices = [indices for indices, u in main_dict.items() if u == next_split_u][0]\n",
    "  up, down, left, right = new_indices\n",
    "  \n",
    "  vmid = int( (up + down) / 2 )                                                                  \n",
    "  hmid = int( (left + right) / 2 )  \n",
    "  \n",
    "  # Check if this is a single pixel\n",
    "  if (up >= down-2) or (left >= right-2) or (vmid >= down-2) or (hmid >= right-2):{}\n",
    "  else: \n",
    "    # Calculate error for each split\n",
    "    if (error == 0):  \n",
    "      main_dict[(up, vmid, left, hmid)] = mean_squared_error(img, up, vmid, left, hmid)\n",
    "      main_dict[(up, vmid, hmid, right)] = mean_squared_error(img, up, vmid, hmid, right)\n",
    "      main_dict[(vmid, down, left, hmid)] = mean_squared_error(img, vmid, down, left, hmid)\n",
    "      main_dict[(vmid, down, hmid, right)] = mean_squared_error(img, vmid, down, hmid, right)    \n",
    "\n",
    "    elif (error == 1):\n",
    "      main_dict[(up, vmid, left, hmid)] = mean_abs_error(img, up, vmid, left, hmid)\n",
    "      main_dict[(up, vmid, hmid, right)] = mean_abs_error(img, up, vmid, hmid, right)\n",
    "      main_dict[(vmid, down, left, hmid)] = mean_abs_error(img, vmid, down, left, hmid)\n",
    "      main_dict[(vmid, down, hmid, right)] = mean_abs_error(img, vmid, down, hmid, right)\n",
    "\n",
    "    elif (error == 2):\n",
    "      main_dict[(up, vmid, left, hmid)] = max_abs_error(img, up, vmid, left, hmid)\n",
    "      main_dict[(up, vmid, hmid, right)] = max_abs_error(img, up, vmid, hmid, right)\n",
    "      main_dict[(vmid, down, left, hmid)] = max_abs_error(img, vmid, down, left, hmid)\n",
    "      main_dict[(vmid, down, hmid, right)] = max_abs_error(img, vmid, down, hmid, right)\n",
    "\n",
    "    else : \n",
    "      print(\"Enter correct Error Metric option\")\n",
    "  \n",
    "  # Remove the maximum error from the dictionary\n",
    "  main_dict.pop(new_indices)\n",
    "  \n",
    "  # If error is less than the threshold\n",
    "  return main_dict, next_split_u\n",
    "  \n",
    "  # Recursively split the image further, till threshold/ no. of iterations is reached\n",
    "#   return (quadtree_compression(img, *new_indices, main_dict, error, threshold))\n",
    "\n",
    "\n",
    "'''\n",
    "--------------------------------\n",
    "Compressed Image function      |\n",
    "--------------------------------\n",
    "'''\n",
    "def compress_img(img, main_dict):\n",
    "  new_img = np.zeros(img.shape)\n",
    "  for key, _ in main_dict.items():\n",
    "    up, down, left, right = key    \n",
    "    new_img[up:down, left:right] = np.mean(img[up:down, left:right])\n",
    "  return new_img\n",
    "\n",
    "'''\n",
    "--------------------------------\n",
    "Quadtree wrapper function      |\n",
    "--------------------------------\n",
    "'''\n",
    "def quadtree_wrapper(img, error, threshold):\n",
    "  # Initializing required data structures and indices\n",
    "  main_dict = {}\n",
    "  up = 0\n",
    "  left = 0\n",
    "  down, right = img.shape\n",
    "  start_index = (up, down, left, right)\n",
    "  main_dict[start_index] = 255*255\n",
    "  \n",
    "# try:\n",
    "  for i in range(2000):\n",
    "    main_dict, u = quadtree_compression(img, main_dict, error, threshold)       # *start_index (removed this arg)\n",
    "    if u < threshold:\n",
    "      return compress_img(img, main_dict)\n",
    "    \n",
    "#   except RecursionError:\n",
    "#   print( \"Maximum recursion depth exceeded.\")\n",
    "#   return img\n",
    "  \n",
    "#   print(len(new_dict))\n",
    "#   return compress_img(img, new_dict)"
   ]
  },
  {
   "cell_type": "code",
   "execution_count": 0,
   "metadata": {
    "colab": {
     "base_uri": "https://localhost:8080/",
     "height": 368
    },
    "colab_type": "code",
    "id": "tzVEycpLbWhr",
    "outputId": "4da8e053-9a2a-49da-a7c2-9f99244591f3"
   },
   "outputs": [
    {
     "data": {
      "text/plain": [
       "<matplotlib.image.AxesImage at 0x7f8e9d60c320>"
      ]
     },
     "execution_count": 99,
     "metadata": {
      "tags": []
     },
     "output_type": "execute_result"
    },
    {
     "data": {
      "image/png": "[encoded data removed]",
      "text/plain": [
       "<Figure size 576x396 with 1 Axes>"
      ]
     },
     "metadata": {
      "tags": []
     },
     "output_type": "display_data"
    }
   ],
   "source": [
    "# Error Metrics and their thresholds\n",
    "# 0: t = 1362, recursion_count = 1197\n",
    "# 1: t = 29.7, recursion_count = 1195\n",
    "# 2: t = 92.44, recursion_count = 1399\n",
    "\n",
    "t1_qt = quadtree_wrapper(t3_gray, 0, 200)\n",
    "\n",
    "plt.imshow(t1_qt)"
   ]
  },
  {
   "cell_type": "code",
   "execution_count": 0,
   "metadata": {
    "colab": {
     "base_uri": "https://localhost:8080/",
     "height": 132
    },
    "colab_type": "code",
    "id": "5AcIWJsJnEpb",
    "outputId": "04e78853-27d0-4b94-d4c1-bbe405e0cc0d"
   },
   "outputs": [
    {
     "ename": "SyntaxError",
     "evalue": "ignored",
     "output_type": "error",
     "traceback": [
      "\u001b[0;36m  File \u001b[0;32m\"<ipython-input-326-63e5ecdd734d>\"\u001b[0;36m, line \u001b[0;32m1\u001b[0m\n\u001b[0;31m    |index = np.arange(100).reshape(10,10)\u001b[0m\n\u001b[0m    ^\u001b[0m\n\u001b[0;31mSyntaxError\u001b[0m\u001b[0;31m:\u001b[0m invalid syntax\n"
     ]
    }
   ],
   "source": [
    "index = np.arange(100).reshape(10,10)\n",
    "print(index)\n",
    "print()\n",
    "vdiv = int(len(index)/2)\n",
    "hdiv = int(len(index[0])/2)\n",
    "\n",
    "# Mean Squared Error\n",
    "print(index[:vdiv,:hdiv])\n",
    "print( np.mean(( np.mean(index[:vdiv,:hdiv]) - index[:vdiv,:hdiv])**2 ) )\n",
    "\n",
    "\n",
    "# print(np.mean((np.mean(index[:vdiv,:hdiv]) - index[:vdiv,:hdiv])**2))\n",
    "# print()\n",
    "\n",
    "# print(index[:vdiv, hdiv:])\n",
    "# print(np.mean(index[:vdiv, hdiv:]))\n",
    "# print()\n",
    "\n",
    "print(index[vdiv:,:hdiv])\n",
    "# print(np.mean(index[vdiv:,:hdiv]))\n",
    "# print()\n",
    "\n",
    "\n",
    "# print(index[vdiv:,hdiv:])\n",
    "# print(np.mean(index[vdiv:,hdiv:]))\n",
    "# print()"
   ]
  },
  {
   "cell_type": "markdown",
   "metadata": {
    "colab_type": "text",
    "id": "pQljqF5QntwI"
   },
   "source": [
    "References:\n",
    "1.  Expanding tuples into arguments: https://stackoverflow.com/questions/1993727/expanding-tuples-into-arguments\n",
    "2. Get key by value in dictionary: https://stackoverflow.com/questions/8023306/get-key-by-value-in-dictionary"
   ]
  },
  {
   "cell_type": "markdown",
   "metadata": {
    "colab_type": "text",
    "id": "aSvj1H0NeH4C"
   },
   "source": [
    "## Median-cut compression"
   ]
  },
  {
   "cell_type": "markdown",
   "metadata": {
    "colab_type": "text",
    "id": "knV9He05eS4A"
   },
   "source": [
    "*Median cut is an algorithm to sort data of an arbitrary number of dimensions into series of sets by recursively cutting each set of data at the median point along the longest dimension.*\n",
    "\n",
    "1. Find out which color channel (red, green, or blue) among the pixels in the bucket has the greatest range, then sort the pixels according to that channel's values. \n",
    "2. After the bucket has been sorted, move the upper half of the pixels into a new bucket. (It is this step that gives the median cut algorithm its name. The buckets are divided into two at the median of the list of pixels.) \n",
    "3. Repeat the process on both buckets\n",
    "\n"
   ]
  },
  {
   "cell_type": "code",
   "execution_count": 0,
   "metadata": {
    "colab": {},
    "colab_type": "code",
    "id": "zK_io0JS1qIb"
   },
   "outputs": [],
   "source": [
    "'''\n",
    "--------------------------------\n",
    "k-d tree data structure        |\n",
    "Nodes in a tree                |\n",
    "pt: image co-ordinates         |\n",
    "val: intensity values          |\n",
    "leftnode: less than median     |\n",
    "rightnode: more than median    |\n",
    "--------------------------------\n",
    "'''\n",
    "\n",
    "# class Node: \n",
    "#   def __init__(self, pt = None, val=None):\n",
    "#     self.pt = pt\n",
    "#     self.val = val\n",
    "#     self.leftnode = leftnode\n",
    "#     self.rightnode = rightnode\n",
    "\n",
    "def channel_range(up, down, left, right):\n",
    "  \n"
   ]
  },
  {
   "cell_type": "markdown",
   "metadata": {
    "colab_type": "text",
    "id": "XKTC6h2nqG0l"
   },
   "source": [
    "References: \n",
    "1. Median-cut algorithm: https://en.wikipedia.org/wiki/Median_cut\n",
    "2. K-d tree: https://en.wikipedia.org/wiki/K-d_tree"
   ]
  },
  {
   "cell_type": "code",
   "execution_count": 0,
   "metadata": {
    "colab": {
     "base_uri": "https://localhost:8080/",
     "height": 36
    },
    "colab_type": "code",
    "id": "nOKKobi61qOx",
    "outputId": "3c5704b7-1b26-4638-c20d-6f7131da9ca8"
   },
   "outputs": [
    {
     "data": {
      "text/plain": [
       "99"
      ]
     },
     "execution_count": 136,
     "metadata": {
      "tags": []
     },
     "output_type": "execute_result"
    }
   ],
   "source": [
    "test_3d = np.arange(0,300).reshape(3, 10, 10)\n",
    "\n",
    "np.max([np.ptp(test_3d[0]), np.ptp(test_3d[1]), np.ptp(test_3d[2])])"
   ]
  },
  {
   "cell_type": "code",
   "execution_count": 0,
   "metadata": {
    "colab": {
     "base_uri": "https://localhost:8080/",
     "height": 36
    },
    "colab_type": "code",
    "id": "UOSKboY6tutS",
    "outputId": "0553603f-6b34-409c-bab8-c15271014ea8"
   },
   "outputs": [
    {
     "data": {
      "text/plain": [
       "299"
      ]
     },
     "execution_count": 138,
     "metadata": {
      "tags": []
     },
     "output_type": "execute_result"
    }
   ],
   "source": []
  },
  {
   "cell_type": "code",
   "execution_count": 0,
   "metadata": {
    "colab": {},
    "colab_type": "code",
    "id": "AesJt3OLvRvP"
   },
   "outputs": [],
   "source": []
  }
 ],
 "metadata": {
  "accelerator": "TPU",
  "colab": {
   "collapsed_sections": [
    "9Lpfpw7a-k7X",
    "IxND0gQJACFu"
   ],
   "name": "CSE534_Proj(03/31).ipynb",
   "provenance": [],
   "version": "0.3.2"
  },
  "kernelspec": {
   "display_name": "Python [default]",
   "language": "python",
   "name": "python3"
  },
  "language_info": {
   "codemirror_mode": {
    "name": "ipython",
    "version": 3
   },
   "file_extension": ".py",
   "mimetype": "text/x-python",
   "name": "python",
   "nbconvert_exporter": "python",
   "pygments_lexer": "ipython3",
   "version": "3.6.5"
  }
 },
 "nbformat": 4,
 "nbformat_minor": 1
}
